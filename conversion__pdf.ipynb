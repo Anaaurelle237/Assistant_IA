{
 "cells": [
  {
   "cell_type": "markdown",
   "metadata": {},
   "source": [
    "#CONVERSION DE PDF EN MARKDOWN"
   ]
  },
  {
   "cell_type": "code",
   "execution_count": null,
   "metadata": {
    "vscode": {
     "languageId": "plaintext"
    }
   },
   "outputs": [],
   "source": [
    "import nest_asyncio\n",
    "import os\n",
    "from pathlib import Path\n",
    "from llama_parse import LlamaParse\n",
    "import docx\n",
    "import pandas as pd"
   ]
  },
  {
   "cell_type": "code",
   "execution_count": null,
   "metadata": {
    "vscode": {
     "languageId": "plaintext"
    }
   },
   "outputs": [],
   "source": [
    "\n",
    "nest_asyncio.apply()\n",
    "\n",
    "# Configuration  LlamaParse\n",
    "parser = LlamaParse(\n",
    "    api_key=\"llx...\",\n",
    "    result_type=\"markdown\",\n",
    "    verbose=True,\n",
    "    show_progress=True,\n",
    "    strict_mode_image_extraction=False,\n",
    "    strict_mode_image_ocr=False,\n",
    ")\n"
   ]
  },
  {
   "cell_type": "code",
   "execution_count": null,
   "metadata": {
    "vscode": {
     "languageId": "plaintext"
    }
   },
   "outputs": [],
   "source": [
    "# Dossiers d'entrée et de sortie\n",
    "input_dir = \"./processus_branchement\"\n",
    "output_dir = \"./markdown_branchements\"\n",
    "\n",
    "# Création du dossier de sortie si inexistant\n",
    "os.makedirs(output_dir, exist_ok=True)"
   ]
  },
  {
   "cell_type": "code",
   "execution_count": null,
   "metadata": {
    "vscode": {
     "languageId": "plaintext"
    }
   },
   "outputs": [],
   "source": [
    "# Fonction pour extraire le texte d'un fichier Word\n",
    "def extract_word_text(file_path):\n",
    "    doc = docx.Document(file_path)\n",
    "    text = \"\"\n",
    "    for para in doc.paragraphs:\n",
    "        text += para.text + \"\\n\\n\"\n",
    "    return text\n",
    "\n",
    "# Fonction pour extraire le texte d'un fichier Excel\n",
    "def extract_excel_text(file_path):\n",
    "    text = \"\"\n",
    "    xls = pd.ExcelFile(file_path)\n",
    "    for sheet_name in xls.sheet_names:\n",
    "        df = pd.read_excel(file_path, sheet_name=sheet_name)\n",
    "        text += f\"## {sheet_name}\\n\\n\"\n",
    "        text += df.to_markdown(index=False) + \"\\n\\n\"\n",
    "    return text"
   ]
  },
  {
   "cell_type": "code",
   "execution_count": null,
   "metadata": {
    "vscode": {
     "languageId": "plaintext"
    }
   },
   "outputs": [],
   "source": [
    "# Parcourir récursivement les fichiers dans le dossier d'entrée\n",
    "for root, dirs, files in os.walk(input_dir):\n",
    "    for file in files:\n",
    "        # Chemin complet du fichier d'entrée\n",
    "        file_path = os.path.join(root, file)\n",
    "        \n",
    "        # Déterminer le chemin de sortie relatif\n",
    "        relative_path = os.path.relpath(root, input_dir)\n",
    "        output_subdir = os.path.join(output_dir, relative_path)\n",
    "        os.makedirs(output_subdir, exist_ok=True)\n",
    "        \n",
    "        # Nom du fichier Markdown\n",
    "        file_name = Path(file).stem\n",
    "        output_path = os.path.join(output_subdir, f\"{file_name}.md\")\n",
    "        \n",
    "        # Vérifier si le fichier Markdown existe déjà\n",
    "        if os.path.exists(output_path):\n",
    "            print(f\"Le fichier {output_path} existe déjà, conversion ignorée.\")\n",
    "            continue\n",
    "        \n",
    "        try:\n",
    "            # Traitement selon le type de fichier\n",
    "            if file.lower().endswith('.pdf'):\n",
    "                # Conversion PDF en Markdown\n",
    "                documents = parser.load_data(file_path)\n",
    "                markdown_content = \"\"\n",
    "                for doc in documents:\n",
    "                    markdown_content += doc.text + \"\\n\\n\"\n",
    "                    markdown_content += \"---\\n\\n\"\n",
    "                    \n",
    "            elif file.lower().endswith(('.docx', '.doc')):\n",
    "                # Conversion Word en Markdown\n",
    "                markdown_content = extract_word_text(file_path)\n",
    "                \n",
    "            elif file.lower().endswith(('.xlsx', '.xls')):\n",
    "                # Conversion Excel en Markdown\n",
    "                markdown_content = extract_excel_text(file_path)\n",
    "                \n",
    "            else:\n",
    "                print(f\"Type de fichier non pris en charge : {file_path}\")\n",
    "                continue\n",
    "            \n",
    "            # Écriture du fichier Markdown\n",
    "            with open(output_path, \"w\", encoding=\"utf-8\") as md_file:\n",
    "                md_file.write(markdown_content)\n",
    "            \n",
    "            print(f\"Fichier Markdown généré avec succès : {output_path}\")\n",
    "            \n",
    "        except Exception as e:\n",
    "            print(f\"Erreur lors de la conversion de {file_path} : {str(e)}\")\n",
    "\n",
    "print(\"Conversion terminée.\")"
   ]
  }
 ],
 "metadata": {
  "language_info": {
   "name": "python"
  }
 },
 "nbformat": 4,
 "nbformat_minor": 2
}
